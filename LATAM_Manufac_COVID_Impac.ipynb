{
  "nbformat": 4,
  "nbformat_minor": 0,
  "metadata": {
    "colab": {
      "name": "LATAM Manufac COVID Impac.ipynb",
      "provenance": [],
      "collapsed_sections": [],
      "include_colab_link": true
    },
    "kernelspec": {
      "name": "python3",
      "display_name": "Python 3"
    }
  },
  "cells": [
    {
      "cell_type": "markdown",
      "metadata": {
        "id": "view-in-github",
        "colab_type": "text"
      },
      "source": [
        "<a href=\"https://colab.research.google.com/github/shamitb/BerkeleyX-CS100.1x-Big-Data-with-Apache-Spark/blob/master/LATAM_Manufac_COVID_Impac.ipynb\" target=\"_parent\"><img src=\"https://colab.research.google.com/assets/colab-badge.svg\" alt=\"Open In Colab\"/></a>"
      ]
    },
    {
      "cell_type": "code",
      "metadata": {
        "id": "Er6cmFTkzgKY",
        "colab_type": "code",
        "colab": {}
      },
      "source": [
        "#@title Installations\n",
        "\n",
        "!pip install pytrends\n",
        "!pip install yfinance\n",
        "!pip install forex-python\n",
        "!pip install datetime\n",
        "!pip install pytrends --upgrade \n"
      ],
      "execution_count": 0,
      "outputs": []
    },
    {
      "cell_type": "code",
      "metadata": {
        "id": "F0S8m_gwRHNl",
        "colab_type": "code",
        "colab": {}
      },
      "source": [
        "#@title Imports\n",
        "import pandas as pd\n",
        "import matplotlib as plt\n",
        "from pytrends.request import TrendReq\n",
        "import yfinance as yf\n",
        "from google.colab import files\n",
        "from datetime import timedelta, date, datetime"
      ],
      "execution_count": 0,
      "outputs": []
    },
    {
      "cell_type": "markdown",
      "metadata": {
        "id": "D0_IoXTa6nj7",
        "colab_type": "text"
      },
      "source": [
        "Search trends:\n",
        "Compare y(top 3 loc) vs y competition\n",
        "Related queries for y company (top x queries)\n",
        "Understanding top 3 - 5 loc by sub-region/city\n",
        "~Localised competition view~\n",
        "\n"
      ]
    },
    {
      "cell_type": "code",
      "metadata": {
        "id": "xP46RSm61Rvy",
        "colab_type": "code",
        "cellView": "both",
        "colab": {}
      },
      "source": [
        "#@title Variable and Function Initialisation\n",
        "pytrends = TrendReq(hl='en-UK', tz=60)\n",
        "cpy = [\"Whirlpool\"] # company\n",
        "cpts = [\"Electrolux\"] # competitors\n",
        "r = ['AR', 'BR', 'MX'] # countries to search\n",
        "res = 'CITY' # resolution for region search 'CITY' returns city level data 'COUNTRY' returns country level data 'DMA' returns Metro level data 'REGION' returns Region level data\n",
        "kw_list = cpy + cpts # list of company and competitors\n",
        "tf = '2020-02-03 2020-04-20' # timeframe for search \n",
        "\n",
        "\n",
        "def to_csv(df, filename):\n",
        "  '''\n",
        "  @params: df -> dataframe, filename -> name of file to be created\n",
        "  converts the inputed dataframe into a csv file and downloads the file\n",
        "  '''\n",
        "  df.to_csv(filename)\n",
        "  files.download(filename)\n",
        "\n",
        "\n",
        "\n",
        "def date_range(start, end):\n",
        "  '''\n",
        "  @params: start -> start date, end -> end date\n",
        "  yields a list of dates from start to end\n",
        "  yield is like return however it returns a generator\n",
        "  a generator is like an iterable (list) but will forget the value after it has \n",
        "  been read\n",
        "  '''\n",
        "  for n in range(int( (end - start).days )):\n",
        "    yield start + timedelta(n)\n",
        "\n",
        "\n",
        "def region_interest(start,end, df, comp_x):\n",
        "  '''\n",
        "  @params: start -> start date for search, end -> end date for search\n",
        "  @params: df -> dataframe that values will be appended to, comp_x -> dataframe of related topics for each day in time frame\n",
        "  returns a new dataframe with the interest of a particular topic ploted over \n",
        "  all regions of a country for each day between start and end\n",
        "  '''\n",
        "\n",
        "  comp_x_2 = comp_x.loc[start:end]\n",
        "\n",
        "  for index, _ in comp_x_2.iterrows(): \n",
        "    range_date = datetime.strptime(comp_x.iloc[index]['date'],\"%Y-%m-%d\") - dd\n",
        "    st = {'title': [comp_x.iloc[index]['topic_title']], \n",
        "          'date':range_date.strftime(\"%Y-%m-%d\")+' '+comp_x.iloc[index]['date']}\n",
        "    print(index, end='')\n",
        "    \n",
        "    pytrends.build_payload(st['title'],timeframe=st['date'],geo=r[0])\n",
        "\n",
        "    region_trends = pytrends.interest_by_region(res)\n",
        "\n",
        "    df[st['title']+str(index)] = region_trends[st['title']]\n",
        "    df['date_'+str(index)] = comp_x.iloc[index]['date']\n",
        "    \n",
        "    print(st['title']+' '+st['date'],end=' ')\n",
        "    print('f')\n",
        "  \n",
        "  return df\n",
        "\n",
        "\n",
        "#def get_city_trends(reg,comp):\n",
        " # pytrends.build_payload(comp,cat=0,timeframe=tf,geo=reg,gprop='')\n",
        "  #return pytrends.interest_by_region(res)\n",
        "\n",
        "#city_trends = {c:get_city_trends(r[0],[c]) for c in kw_list}\n",
        "#print(city_trends)\n",
        "\n",
        "\n",
        "#city_trends.plot()\n",
        "#comp_x_top = pd.DataFrame(pytrends.related_queries()[cpy[0]]['top'])\n",
        "#comp_x_top.head()\n",
        "\n",
        "#comp_x_rising = pd.DataFrame(pytrends.related_queries()[cpy[0]]['rising'])\n",
        "#comp_x_rising.head()\n",
        "\n"
      ],
      "execution_count": 0,
      "outputs": []
    },
    {
      "cell_type": "code",
      "metadata": {
        "id": "ZZvw78pgJaYh",
        "colab_type": "code",
        "colab": {}
      },
      "source": [
        ""
      ],
      "execution_count": 0,
      "outputs": []
    },
    {
      "cell_type": "code",
      "metadata": {
        "id": "1HQfm99AjOnq",
        "colab_type": "code",
        "colab": {}
      },
      "source": [
        "'''\n",
        "for each country in r, creates a dataframe for the search interest of each \n",
        "company in kw_list and downloads that dataframe in a csv file\n",
        "'''\n",
        "\n",
        "for cont in r:\n",
        "  pytrends.build_payload(kw_list, cat=0, timeframe=tf, geo=cont, gprop='')\n",
        "  trends = pytrends.interest_over_time()\n",
        "  filename = cont + \"_search_trends_for_country.csv\"\n",
        "  to_csv(trends, filename)"
      ],
      "execution_count": 0,
      "outputs": []
    },
    {
      "cell_type": "code",
      "metadata": {
        "id": "WoO4BRYYjO8p",
        "colab_type": "code",
        "colab": {}
      },
      "source": [
        "start = date(2020, 2, 3)\n",
        "end = date(2020, 4, 21)\n",
        "comp_x = pd.DataFrame()\n",
        "\n",
        "'''\n",
        "for each date between start and end, returns a dataframe containing the related \n",
        "topics for the main company for that day. The dataframe is then appended to a \n",
        "different dataframe.\n",
        "'''\n",
        "\n",
        "for curr_date in date_range(start, end):\n",
        "  dd = timedelta(days=4)\n",
        "  frame = curr_date - dd\n",
        "  frame_str = frame.strftime(\"%Y-%m-%d\") + \" \" + curr_date.strftime(\"%Y-%m-%d\")\n",
        "  '''\n",
        "  The api doesn't allow for only one date to be queried so to get around this the\n",
        "  search is started 4 days back\n",
        "  '''\n",
        "  #print(frame_str)\n",
        "\n",
        "  pytrends.build_payload(cpy, cat=0, timeframe=frame_str, geo=r[0], gprop='')\n",
        "  related_topics = pytrends.related_topics()\n",
        "  tmp = related_topics[cpy[0]]['rising']\n",
        "  if not tmp.empty:\n",
        "    comp_x_rt = tmp.drop(['link','topic_mid'], axis=1)\n",
        "    comp_x_rt['date']=curr_date.strftime(\"%Y-%m-%d\")\n",
        "    comp_x = comp_x.append(comp_x_rt)\n",
        "\n",
        "comp_x = comp_x.reset_index()\n",
        "comp_x.head(20)\n",
        "filename = r[0] + \"_related_topics_per_day.csv\"\n",
        "'''\n",
        "The main dataframe is then saved as a csv file\n",
        "'''\n",
        "to_csv(comp_x, filename)"
      ],
      "execution_count": 0,
      "outputs": []
    },
    {
      "cell_type": "code",
      "metadata": {
        "id": "BvFZ2YzruV_l",
        "colab_type": "code",
        "colab": {}
      },
      "source": [
        "\n"
      ],
      "execution_count": 0,
      "outputs": []
    },
    {
      "cell_type": "code",
      "metadata": {
        "id": "mDMmSY4sQx-n",
        "colab_type": "code",
        "colab": {}
      },
      "source": [
        ""
      ],
      "execution_count": 0,
      "outputs": []
    },
    {
      "cell_type": "code",
      "metadata": {
        "id": "dPpCp25oRxmN",
        "colab_type": "code",
        "colab": {}
      },
      "source": [
        ""
      ],
      "execution_count": 0,
      "outputs": []
    },
    {
      "cell_type": "code",
      "metadata": {
        "id": "WrQlKykW6vu5",
        "colab_type": "code",
        "colab": {}
      },
      "source": [
        "#@title Exchange rate\n",
        "from forex_python.converter import CurrencyRates\n",
        "from time import sleep\n",
        "\n",
        "'''\n",
        "Some testing on whether it is possible to use a python library to output the \n",
        "exchange rate for different currencies. The library is quite slow and only \n",
        "allows queriers every x seconds (I haven't worked out the exact time)\n",
        "'''\n",
        "\n",
        "c = CurrencyRates()\n",
        "brl = c.get_rate('BRL','USD')\n",
        "'''\n",
        "sleep(10)\n",
        "ars = c.get_rate('USD','ARS')\n",
        "sleep(10)\n",
        "mxn = c.get_rate('USD','MXN')\n",
        "'''\n",
        "data = {'brl': brl}\n",
        "#, 'ars': ars, 'mxn': mxn\n",
        "current_rate = pd.Series(data)\n",
        "\n",
        "print(current_rate)\n"
      ],
      "execution_count": 0,
      "outputs": []
    },
    {
      "cell_type": "code",
      "metadata": {
        "id": "3u-Ili763X3p",
        "colab_type": "code",
        "colab": {}
      },
      "source": [
        ""
      ],
      "execution_count": 0,
      "outputs": []
    },
    {
      "cell_type": "markdown",
      "metadata": {
        "id": "OkeKWtvi8oQg",
        "colab_type": "text"
      },
      "source": [
        "Twitter:\n",
        "Word cloud -> what are people talking about\n"
      ]
    }
  ]
}